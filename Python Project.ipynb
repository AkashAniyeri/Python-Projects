{
 "cells": [
  {
   "cell_type": "code",
   "execution_count": 4,
   "id": "756b4892-a53c-4245-9186-4d3878e19a2a",
   "metadata": {},
   "outputs": [],
   "source": [
    "class Bank:\n",
    "    def __init__(self):\n",
    "        self.accounts = {}  # Dictionary to store account info (username: [password, balance, transaction_log])\n",
    "        self.interest_rate = 0.02  # Example interest rate (2%)\n",
    "\n",
    "    def create_account(self, username, password, initial_balance=0):\n",
    "        if username not in self.accounts:\n",
    "            self.accounts[username] = [password, initial_balance, []]\n",
    "            print(f\"Account created for {username}.\")\n",
    "        else:\n",
    "            print(f\"Account with username '{username}' already exists.\")\n",
    "\n",
    "    def login(self, username, password):\n",
    "        if username in self.accounts and self.accounts[username][0] == password:\n",
    "            return True\n",
    "        return False\n",
    "\n",
    "    def deposit(self, username, amount):\n",
    "        if username in self.accounts:\n",
    "            self.accounts[username][1] += amount\n",
    "            self.accounts[username][2].append(f\"Deposited {amount}\")\n",
    "            print(f\"Deposited {amount} into account {username}. New balance: {self.accounts[username][1]}\")\n",
    "        else:\n",
    "            print(\"Account not found.\")\n",
    "\n",
    "    def withdraw(self, username, amount):\n",
    "        if username in self.accounts:\n",
    "            if self.accounts[username][1] >= amount:\n",
    "                self.accounts[username][1] -= amount\n",
    "                self.accounts[username][2].append(f\"Withdrew {amount}\")\n",
    "                print(f\"Withdrew {amount} from account {username}. New balance: {self.accounts[username][1]}\")\n",
    "            else:\n",
    "                print(\"Insufficient balance.\")\n",
    "        else:\n",
    "            print(\"Account not found.\")\n",
    "\n",
    "    def apply_interest(self, username):\n",
    "        if username in self.accounts:\n",
    "            interest_amount = self.accounts[username][1] * self.interest_rate\n",
    "            self.accounts[username][1] += interest_amount\n",
    "            self.accounts[username][2].append(f\"Interest applied: {interest_amount:.2f}\")\n",
    "            print(f\"Interest applied to account {username}. New balance: {self.accounts[username][1]}\")\n",
    "        else:\n",
    "            print(\"Account not found.\")\n",
    "\n",
    "    def transfer(self, sender, recipient, amount):\n",
    "        if sender in self.accounts and recipient in self.accounts:\n",
    "            if self.accounts[sender][1] >= amount:\n",
    "                self.accounts[sender][1] -= amount\n",
    "                self.accounts[recipient][1] += amount\n",
    "                self.accounts[sender][2].append(f\"Transferred {amount} to {recipient}\")\n",
    "                self.accounts[recipient][2].append(f\"Received {amount} from {sender}\")\n",
    "                print(f\"Transferred {amount} from {sender} to {recipient}.\")\n",
    "            else:\n",
    "                print(\"Insufficient balance for transfer.\")\n",
    "        else:\n",
    "            print(\"Invalid sender or recipient account.\")\n",
    "\n",
    "    \n",
    "\n",
    "\n"
   ]
  },
  {
   "cell_type": "code",
   "execution_count": 6,
   "id": "b83170a3-d647-423c-9921-ed21c0cc61b1",
   "metadata": {},
   "outputs": [
    {
     "name": "stdout",
     "output_type": "stream",
     "text": [
      "Account created for user1.\n"
     ]
    }
   ],
   "source": [
    "bank_system = Bank()\n",
    "bank_system.create_account(\"user1\", \"password1\", initial_balance=1000)"
   ]
  },
  {
   "cell_type": "code",
   "execution_count": 8,
   "id": "03ef8afe-3427-4f25-9e72-403ad20b64d0",
   "metadata": {},
   "outputs": [
    {
     "name": "stdout",
     "output_type": "stream",
     "text": [
      "Account created for user2.\n"
     ]
    }
   ],
   "source": [
    "bank_system.create_account(\"user2\", \"password2\", initial_balance=500)\n"
   ]
  },
  {
   "cell_type": "code",
   "execution_count": 10,
   "id": "704e0915-6452-44ac-9006-0fe755959ebc",
   "metadata": {},
   "outputs": [
    {
     "name": "stdout",
     "output_type": "stream",
     "text": [
      "Deposited 200 into account user1. New balance: 1200\n",
      "Withdrew 300 from account user1. New balance: 900\n",
      "Interest applied to account user1. New balance: 918.0\n",
      "Transferred 100 from user1 to user2.\n"
     ]
    }
   ],
   "source": [
    "if bank_system.login(\"user1\", \"password1\"):\n",
    "    bank_system.deposit(\"user1\", 200)\n",
    "    bank_system.withdraw(\"user1\", 300)\n",
    "    bank_system.apply_interest(\"user1\")\n",
    "    bank_system.transfer(\"user1\", \"user2\", 100)\n",
    "else:\n",
    "    print(\"Login failed.\")\n"
   ]
  },
  {
   "cell_type": "code",
   "execution_count": null,
   "id": "cec8ba3a-6ee5-42b8-9fe0-0a9f05f6bc12",
   "metadata": {},
   "outputs": [],
   "source": []
  },
  {
   "cell_type": "code",
   "execution_count": null,
   "id": "8fbcaac3-779e-4ea6-95ef-363ce102641b",
   "metadata": {},
   "outputs": [],
   "source": []
  }
 ],
 "metadata": {
  "kernelspec": {
   "display_name": "Python 3 (ipykernel)",
   "language": "python",
   "name": "python3"
  },
  "language_info": {
   "codemirror_mode": {
    "name": "ipython",
    "version": 3
   },
   "file_extension": ".py",
   "mimetype": "text/x-python",
   "name": "python",
   "nbconvert_exporter": "python",
   "pygments_lexer": "ipython3",
   "version": "3.12.4"
  }
 },
 "nbformat": 4,
 "nbformat_minor": 5
}
